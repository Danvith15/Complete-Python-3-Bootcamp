{
 "cells": [
  {
   "cell_type": "code",
   "execution_count": null,
   "id": "70b70e0b-6754-4149-9eb0-bd00497fd023",
   "metadata": {},
   "outputs": [],
   "source": []
  }
 ],
 "metadata": {
  "kernelspec": {
   "display_name": "",
   "name": ""
  },
  "language_info": {
   "name": ""
  }
 },
 "nbformat": 4,
 "nbformat_minor": 5
}
